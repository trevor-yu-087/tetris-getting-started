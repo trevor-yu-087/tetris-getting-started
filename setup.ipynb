{
  "nbformat": 4,
  "nbformat_minor": 0,
  "metadata": {
    "colab": {
      "provenance": []
    },
    "kernelspec": {
      "name": "python3",
      "display_name": "Python 3"
    },
    "language_info": {
      "name": "python"
    }
  },
  "cells": [
    {
      "cell_type": "code",
      "execution_count": 9,
      "metadata": {
        "colab": {
          "base_uri": "https://localhost:8080/"
        },
        "id": "S1tY8l83Vy9b",
        "outputId": "bb1c028a-8e86-4f42-b5b6-9c935e77f291"
      },
      "outputs": [
        {
          "output_type": "stream",
          "name": "stdout",
          "text": [
            "remote: Enumerating objects: 16, done.\u001b[K\n",
            "remote: Counting objects:   6% (1/16)\u001b[K\rremote: Counting objects:  12% (2/16)\u001b[K\rremote: Counting objects:  18% (3/16)\u001b[K\rremote: Counting objects:  25% (4/16)\u001b[K\rremote: Counting objects:  31% (5/16)\u001b[K\rremote: Counting objects:  37% (6/16)\u001b[K\rremote: Counting objects:  43% (7/16)\u001b[K\rremote: Counting objects:  50% (8/16)\u001b[K\rremote: Counting objects:  56% (9/16)\u001b[K\rremote: Counting objects:  62% (10/16)\u001b[K\rremote: Counting objects:  68% (11/16)\u001b[K\rremote: Counting objects:  75% (12/16)\u001b[K\rremote: Counting objects:  81% (13/16)\u001b[K\rremote: Counting objects:  87% (14/16)\u001b[K\rremote: Counting objects:  93% (15/16)\u001b[K\rremote: Counting objects: 100% (16/16)\u001b[K\rremote: Counting objects: 100% (16/16), done.\u001b[K\n",
            "remote: Compressing objects:  50% (1/2)\u001b[K\rremote: Compressing objects: 100% (2/2)\u001b[K\rremote: Compressing objects: 100% (2/2), done.\u001b[K\n",
            "remote: Total 10 (delta 8), reused 10 (delta 8), pack-reused 0\u001b[K\n",
            "Unpacking objects:  10% (1/10)\rUnpacking objects:  20% (2/10)\rUnpacking objects:  30% (3/10)\rUnpacking objects:  40% (4/10)\rUnpacking objects:  50% (5/10)\rUnpacking objects:  60% (6/10)\rUnpacking objects:  70% (7/10)\rUnpacking objects:  80% (8/10)\rUnpacking objects:  90% (9/10)\rUnpacking objects: 100% (10/10)\rUnpacking objects: 100% (10/10), 1.23 KiB | 251.00 KiB/s, done.\n",
            "From https://github.com/carterdemars/watai-tetris-getting-started\n",
            " * branch            HEAD       -> FETCH_HEAD\n",
            "Updating 0ce0242..3911a8a\n",
            "Fast-forward\n",
            " submission/sample_agent.py    | 36 \u001b[32m+++++++++++++++++++++++++++++++\u001b[m\u001b[31m-----\u001b[m\n",
            " submission/tetris/pieces/i.py |  2 \u001b[32m+\u001b[m\u001b[31m-\u001b[m\n",
            " 2 files changed, 32 insertions(+), 6 deletions(-)\n"
          ]
        }
      ],
      "source": [
        "! git clone https://github.com/carterdemars/watai-tetris-getting-started.git"
      ]
    },
    {
      "cell_type": "code",
      "source": [
        "! pip install -U doxa-cli"
      ],
      "metadata": {
        "colab": {
          "base_uri": "https://localhost:8080/"
        },
        "id": "p2iw80imV1G5",
        "outputId": "c0b6a452-9047-4eb0-f334-fd810f062d35"
      },
      "execution_count": 10,
      "outputs": [
        {
          "output_type": "stream",
          "name": "stdout",
          "text": [
            "Requirement already satisfied: doxa-cli in /usr/local/lib/python3.10/dist-packages (0.1.7)\n",
            "Requirement already satisfied: halo>=0.0.31,~=0.0.31 in /usr/local/lib/python3.10/dist-packages (from doxa-cli) (0.0.31)\n",
            "Requirement already satisfied: pyyaml>=6.0 in /usr/local/lib/python3.10/dist-packages (from doxa-cli) (6.0.1)\n",
            "Requirement already satisfied: requests-toolbelt~=0.10.1 in /usr/local/lib/python3.10/dist-packages (from doxa-cli) (0.10.1)\n",
            "Requirement already satisfied: requests~=2.26.0 in /usr/local/lib/python3.10/dist-packages (from doxa-cli) (2.26.0)\n",
            "Requirement already satisfied: typer[all]>=0.9.0 in /usr/local/lib/python3.10/dist-packages (from doxa-cli) (0.9.4)\n",
            "Requirement already satisfied: log-symbols>=0.0.14 in /usr/local/lib/python3.10/dist-packages (from halo>=0.0.31,~=0.0.31->doxa-cli) (0.0.14)\n",
            "Requirement already satisfied: spinners>=0.0.24 in /usr/local/lib/python3.10/dist-packages (from halo>=0.0.31,~=0.0.31->doxa-cli) (0.0.24)\n",
            "Requirement already satisfied: termcolor>=1.1.0 in /usr/local/lib/python3.10/dist-packages (from halo>=0.0.31,~=0.0.31->doxa-cli) (2.4.0)\n",
            "Requirement already satisfied: colorama>=0.3.9 in /usr/local/lib/python3.10/dist-packages (from halo>=0.0.31,~=0.0.31->doxa-cli) (0.4.6)\n",
            "Requirement already satisfied: six>=1.12.0 in /usr/local/lib/python3.10/dist-packages (from halo>=0.0.31,~=0.0.31->doxa-cli) (1.16.0)\n",
            "Requirement already satisfied: urllib3<1.27,>=1.21.1 in /usr/local/lib/python3.10/dist-packages (from requests~=2.26.0->doxa-cli) (1.26.18)\n",
            "Requirement already satisfied: certifi>=2017.4.17 in /usr/local/lib/python3.10/dist-packages (from requests~=2.26.0->doxa-cli) (2024.2.2)\n",
            "Requirement already satisfied: charset-normalizer~=2.0.0 in /usr/local/lib/python3.10/dist-packages (from requests~=2.26.0->doxa-cli) (2.0.12)\n",
            "Requirement already satisfied: idna<4,>=2.5 in /usr/local/lib/python3.10/dist-packages (from requests~=2.26.0->doxa-cli) (3.7)\n",
            "Requirement already satisfied: click<9.0.0,>=7.1.1 in /usr/local/lib/python3.10/dist-packages (from typer[all]>=0.9.0->doxa-cli) (8.1.7)\n",
            "Requirement already satisfied: typing-extensions>=3.7.4.3 in /usr/local/lib/python3.10/dist-packages (from typer[all]>=0.9.0->doxa-cli) (4.11.0)\n",
            "Requirement already satisfied: shellingham<2.0.0,>=1.3.0 in /usr/local/lib/python3.10/dist-packages (from typer[all]>=0.9.0->doxa-cli) (1.5.4)\n",
            "Requirement already satisfied: rich<14.0.0,>=10.11.0 in /usr/local/lib/python3.10/dist-packages (from typer[all]>=0.9.0->doxa-cli) (13.7.1)\n",
            "Requirement already satisfied: markdown-it-py>=2.2.0 in /usr/local/lib/python3.10/dist-packages (from rich<14.0.0,>=10.11.0->typer[all]>=0.9.0->doxa-cli) (3.0.0)\n",
            "Requirement already satisfied: pygments<3.0.0,>=2.13.0 in /usr/local/lib/python3.10/dist-packages (from rich<14.0.0,>=10.11.0->typer[all]>=0.9.0->doxa-cli) (2.16.1)\n",
            "Requirement already satisfied: mdurl~=0.1 in /usr/local/lib/python3.10/dist-packages (from markdown-it-py>=2.2.0->rich<14.0.0,>=10.11.0->typer[all]>=0.9.0->doxa-cli) (0.1.2)\n"
          ]
        }
      ]
    },
    {
      "cell_type": "code",
      "source": [
        "! pip install pygame pillow requests"
      ],
      "metadata": {
        "colab": {
          "base_uri": "https://localhost:8080/"
        },
        "id": "w_EibAyZWY9I",
        "outputId": "a3d2e55b-df88-4788-c4fe-8e3ff96824e0"
      },
      "execution_count": 11,
      "outputs": [
        {
          "output_type": "stream",
          "name": "stdout",
          "text": [
            "Requirement already satisfied: pygame in /usr/local/lib/python3.10/dist-packages (2.5.2)\n",
            "Requirement already satisfied: pillow in /usr/local/lib/python3.10/dist-packages (9.4.0)\n",
            "Requirement already satisfied: requests in /usr/local/lib/python3.10/dist-packages (2.26.0)\n",
            "Requirement already satisfied: urllib3<1.27,>=1.21.1 in /usr/local/lib/python3.10/dist-packages (from requests) (1.26.18)\n",
            "Requirement already satisfied: certifi>=2017.4.17 in /usr/local/lib/python3.10/dist-packages (from requests) (2024.2.2)\n",
            "Requirement already satisfied: charset-normalizer~=2.0.0 in /usr/local/lib/python3.10/dist-packages (from requests) (2.0.12)\n",
            "Requirement already satisfied: idna<4,>=2.5 in /usr/local/lib/python3.10/dist-packages (from requests) (3.7)\n"
          ]
        }
      ]
    },
    {
      "cell_type": "code",
      "source": [
        "! doxa login"
      ],
      "metadata": {
        "colab": {
          "base_uri": "https://localhost:8080/"
        },
        "id": "SNdKzSKuWbtM",
        "outputId": "491f3b43-4136-44b7-a20c-9ec8d516257b"
      },
      "execution_count": 12,
      "outputs": [
        {
          "output_type": "stream",
          "name": "stdout",
          "text": [
            "/usr/local/lib/python3.10/dist-packages/requests/__init__.py:102: RequestsDependencyWarning: urllib3 (1.26.18) or chardet (5.2.0)/charset_normalizer (2.0.12) doesn't match a supported version!\n",
            "  warnings.warn(\"urllib3 ({}) or chardet ({})/charset_normalizer ({}) doesn't match a supported \"\n",
            "\u001b[0m\u001b[32m\u001b[1m\n",
            "Use the link below to log into the CLI using your DOXA account:\u001b[0m\n",
            "\u001b[0m\thttps://doxaai.com/oauth/device/wVCfL1RiA3j4\u001b[0m\n",
            "\u001b[0m\u001b[32m\u001b[1m\n",
            "The verification link has been opened in your default browser.\n",
            "\u001b[0m\n",
            "\u001b[0m\u001b[K\u001b[0m\u001b[?25h\u001b[0m\u001b[31m✖\u001b[39m An error occurred while attempting to log you in.\n",
            "\u001b[0m\u001b[K\u001b[0m\u001b[?25h\u001b[0m\u001b[0m"
          ]
        }
      ]
    },
    {
      "cell_type": "code",
      "source": [
        "! doxa user"
      ],
      "metadata": {
        "colab": {
          "base_uri": "https://localhost:8080/"
        },
        "id": "ooqFW_pdwc5Z",
        "outputId": "95607a49-1696-4816-e605-1511ab758fc1"
      },
      "execution_count": 48,
      "outputs": [
        {
          "output_type": "stream",
          "name": "stdout",
          "text": [
            "/usr/local/lib/python3.10/dist-packages/requests/__init__.py:102: RequestsDependencyWarning: urllib3 (1.26.18) or chardet (5.2.0)/charset_normalizer (2.0.12) doesn't match a supported version!\n",
            "  warnings.warn(\"urllib3 ({}) or chardet ({})/charset_normalizer ({}) doesn't match a supported \"\n",
            "\n",
            "\u001b[1;32mHello, @cdemars! Here are your account details:\u001b[0m\n",
            "\n",
            "\u001b[0m\u001b[1;37m           User Information for @cdemars           \u001b[0m\n",
            "┏━━━━━━━━━━┳━━━━━━━━━━━━━━━━━━━━━━━━━━━━━━━━━━━━━━┓\n",
            "┃\u001b[1m \u001b[0m\u001b[1mField   \u001b[0m\u001b[1m \u001b[0m┃\u001b[1m \u001b[0m\u001b[1mValue                               \u001b[0m\u001b[1m \u001b[0m┃\n",
            "┡━━━━━━━━━━╇━━━━━━━━━━━━━━━━━━━━━━━━━━━━━━━━━━━━━━┩\n",
            "│\u001b[1;36m \u001b[0m\u001b[1;36mUsername\u001b[0m\u001b[1;36m \u001b[0m│ cdemars                              │\n",
            "│          │                                      │\n",
            "│\u001b[1;36m \u001b[0m\u001b[1;36mEmail   \u001b[0m\u001b[1;36m \u001b[0m│ cdemars@uwaterloo.ca                 │\n",
            "│          │                                      │\n",
            "│\u001b[1;36m \u001b[0m\u001b[1;36mTag     \u001b[0m\u001b[1;36m \u001b[0m│ 51d3faa3-06fe-429b-8b2a-49a7fc360bc5 │\n",
            "└──────────┴──────────────────────────────────────┘\n",
            "\u001b[0m\u001b[0m"
          ]
        }
      ]
    },
    {
      "cell_type": "markdown",
      "source": [
        "Let's make our first DOXA submission. Navigate to sample_agent.py and change the weights passed to the agent to numbers of your choice."
      ],
      "metadata": {
        "id": "s1SMBOnOyjfO"
      }
    },
    {
      "cell_type": "code",
      "source": [
        "! doxa upload /content/watai-tetris-getting-started/submission"
      ],
      "metadata": {
        "colab": {
          "base_uri": "https://localhost:8080/"
        },
        "id": "vAseUjdbWgqB",
        "outputId": "4bc694e3-7f66-4fc7-eaa3-8265bdad82be"
      },
      "execution_count": 47,
      "outputs": [
        {
          "output_type": "stream",
          "name": "stdout",
          "text": [
            "/usr/local/lib/python3.10/dist-packages/requests/__init__.py:102: RequestsDependencyWarning: urllib3 (1.26.18) or chardet (5.2.0)/charset_normalizer (2.0.12) doesn't match a supported version!\n",
            "  warnings.warn(\"urllib3 ({}) or chardet ({})/charset_normalizer ({}) doesn't match a supported \"\n",
            "\n",
            "\u001b[2K  \u001b[1;37mCompressing your submission\u001b[0m \u001b[1;32m━━━━━━━━━━━━━━━━━━━━━━━━━━━━━━━━━━━━━━━━\u001b[0m \u001b[1;37m100%\u001b[0m      \u001b[37m6/6\u001b[0m files\n",
            "\u001b[?25h\u001b[0m\n",
            "\u001b[2K  \u001b[1;37mUploading your submission  \u001b[0m \u001b[1;32m━━━━━━━━━━━━━━━━━━━━━━━━━━━━━━━━\u001b[0m \u001b[1;37m100%\u001b[0m      \u001b[37m33.9/33.9 kB\u001b[0m      \u001b[1;36m49.5 MB/s\u001b[0m\n",
            "\u001b[?25h\u001b[0m\n",
            "  \u001b[1;36mYour submission has been successfully uploaded to the DOXA AI platform!\u001b[0m\n",
            "\u001b[0m\u001b[0m"
          ]
        }
      ]
    },
    {
      "cell_type": "code",
      "source": [
        "import os\n",
        "os.chdir('/content/watai-tetris-getting-started/')"
      ],
      "metadata": {
        "id": "1xbKv8cjX2xm"
      },
      "execution_count": null,
      "outputs": []
    },
    {
      "cell_type": "code",
      "source": [
        "import sys\n",
        "sys.path.append('/content/watai-tetris-getting-started/')"
      ],
      "metadata": {
        "id": "cztuJ8lNcCeV"
      },
      "execution_count": null,
      "outputs": []
    },
    {
      "cell_type": "markdown",
      "source": [
        "Let's try searching for some better weights"
      ],
      "metadata": {
        "id": "DMqiv6fQyiG8"
      }
    },
    {
      "cell_type": "code",
      "source": [
        "from submission.sample_agent import SelectedAgent\n",
        "from submission.tetris.game import Game\n",
        "\n",
        "from tqdm import tqdm\n",
        "import numpy as np"
      ],
      "metadata": {
        "id": "dRcYNSoXeOJv"
      },
      "execution_count": 49,
      "outputs": []
    },
    {
      "cell_type": "code",
      "source": [
        "agent = SelectedAgent()"
      ],
      "metadata": {
        "id": "-Xd3iblXecPN"
      },
      "execution_count": 38,
      "outputs": []
    },
    {
      "cell_type": "code",
      "source": [
        "game_seed = 42\n",
        "num_trials = 100"
      ],
      "metadata": {
        "id": "5OOjyx84y326"
      },
      "execution_count": 39,
      "outputs": []
    },
    {
      "cell_type": "code",
      "source": [
        "scores = {}\n",
        "for i in tqdm(range(num_trials)):\n",
        "    w = np.random.randn(5)\n",
        "    agent = SelectedAgent(w)\n",
        "    game = Game(agent, seed=game_seed)\n",
        "\n",
        "    async for item in game.run():\n",
        "        pass\n",
        "\n",
        "    scores.setdefault(game.score, []).append(w)"
      ],
      "metadata": {
        "colab": {
          "base_uri": "https://localhost:8080/"
        },
        "id": "nUSSl4oTyzLB",
        "outputId": "d70739d6-f870-425c-c684-bc5e5b852962"
      },
      "execution_count": 35,
      "outputs": [
        {
          "output_type": "stream",
          "name": "stderr",
          "text": [
            "100%|██████████| 100/100 [01:54<00:00,  1.14s/it]\n"
          ]
        }
      ]
    },
    {
      "cell_type": "code",
      "source": [
        "best = sorted(scores.keys())"
      ],
      "metadata": {
        "id": "zXaIdcmPzA6T"
      },
      "execution_count": 26,
      "outputs": []
    },
    {
      "cell_type": "code",
      "source": [
        "scores[39350]"
      ],
      "metadata": {
        "colab": {
          "base_uri": "https://localhost:8080/"
        },
        "id": "Fi78HffqzYBA",
        "outputId": "05c32cf9-4c8d-48aa-8caa-c8d048dc2eb4"
      },
      "execution_count": 25,
      "outputs": [
        {
          "output_type": "execute_result",
          "data": {
            "text/plain": [
              "[array([ 1.93930944,  1.8292334 ,  1.46822838, -1.7129143 ,  0.01086063])]"
            ]
          },
          "metadata": {},
          "execution_count": 25
        }
      ]
    },
    {
      "cell_type": "markdown",
      "source": [
        "Let's be sure this wasn't a fluke"
      ],
      "metadata": {
        "id": "I2xouejQzpIp"
      }
    },
    {
      "cell_type": "code",
      "source": [
        "best_weights = [[ 1.93930944,  1.8292334 ,  1.46822838, -1.7129143 ,  0.01086063]]\n",
        "best_scores = []\n",
        "\n",
        "for weights in best_weights:\n",
        "  agent = SelectedAgent([ 1.93930944,  1.8292334 ,  1.46822838, -1.7129143 ,  0.01086063])\n",
        "\n",
        "  for i in tqdm(range(1)):\n",
        "\n",
        "      seed = np.random.randn()\n",
        "      game = Game(agent, seed=seed)\n",
        "\n",
        "      async for item in game.run():\n",
        "          pass\n",
        "\n",
        "      best_scores.append(game.score)"
      ],
      "metadata": {
        "colab": {
          "base_uri": "https://localhost:8080/"
        },
        "id": "3QDaMWpszia-",
        "outputId": "2e17f5e8-d1e8-4293-abc9-9bc9a28d99ab"
      },
      "execution_count": 45,
      "outputs": [
        {
          "output_type": "stream",
          "name": "stderr",
          "text": [
            "100%|██████████| 1/1 [00:01<00:00,  1.24s/it]\n"
          ]
        }
      ]
    },
    {
      "cell_type": "code",
      "source": [
        "best_scores"
      ],
      "metadata": {
        "colab": {
          "base_uri": "https://localhost:8080/"
        },
        "id": "StYObZMq0qjF",
        "outputId": "a4459240-c383-489f-b961-b242ade0dad3"
      },
      "execution_count": 46,
      "outputs": [
        {
          "output_type": "execute_result",
          "data": {
            "text/plain": [
              "[1200]"
            ]
          },
          "metadata": {},
          "execution_count": 46
        }
      ]
    },
    {
      "cell_type": "code",
      "source": [],
      "metadata": {
        "id": "rRSvhfi50y8D"
      },
      "execution_count": null,
      "outputs": []
    }
  ]
}
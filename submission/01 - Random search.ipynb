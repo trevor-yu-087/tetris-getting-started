{
 "cells": [
  {
   "cell_type": "code",
   "id": "initial_id",
   "metadata": {
    "collapsed": true,
    "ExecuteTime": {
     "end_time": "2024-05-14T04:02:09.827682Z",
     "start_time": "2024-05-14T04:02:09.820618Z"
    }
   },
   "source": [
    "from agent import Agent\n",
    "from tetris.game import Game\n",
    "import numpy as np\n",
    "import nest_asyncio\n",
    "from tqdm import tqdm\n",
    "nest_asyncio.apply()"
   ],
   "outputs": [],
   "execution_count": 3
  },
  {
   "metadata": {},
   "cell_type": "markdown",
   "source": "# Random search over 100 weights",
   "id": "9eeb89822eec1237"
  },
  {
   "metadata": {
    "ExecuteTime": {
     "end_time": "2024-05-14T04:04:09.653941Z",
     "start_time": "2024-05-14T04:03:13.282408Z"
    }
   },
   "cell_type": "code",
   "source": [
    "GLOBAL_SEED = 87\n",
    "np.random.seed(GLOBAL_SEED)\n",
    "GAME_SEED = 100\n",
    "\n",
    "scores = {}\n",
    "for i in tqdm(range(10)):\n",
    "    w = np.random.rand(5)\n",
    "    agent = Agent(w)\n",
    "    game = Game(agent, seed=GAME_SEED)\n",
    "    results = []\n",
    "    async for item in game.run():\n",
    "        results.append(item)\n",
    "    scores.setdefault(game.score, []).append(w)"
   ],
   "id": "f0a74697ab7bdc8f",
   "outputs": [
    {
     "name": "stderr",
     "output_type": "stream",
     "text": [
      "100%|██████████| 10/10 [00:56<00:00,  5.64s/it]\n"
     ]
    }
   ],
   "execution_count": 4
  },
  {
   "metadata": {
    "ExecuteTime": {
     "end_time": "2024-05-14T04:04:14.454704Z",
     "start_time": "2024-05-14T04:04:14.439567Z"
    }
   },
   "cell_type": "code",
   "source": "scores",
   "id": "d8516cdb2374d0e0",
   "outputs": [
    {
     "data": {
      "text/plain": [
       "{19550: [array([0.65626419, 0.95490138, 0.97087603, 0.09783218, 0.24074492])],\n",
       " 8100: [array([0.86864199, 0.54745293, 0.7191533 , 0.92568368, 0.61703862]),\n",
       "  array([0.64885084, 0.69995106, 0.75362064, 0.93388605, 0.61822474])],\n",
       " 3200: [array([0.66686036, 0.33390184, 0.18291099, 0.36246153, 0.40185609])],\n",
       " 46450: [array([0.76191086, 0.26673502, 0.26709552, 0.97607697, 0.06224954])],\n",
       " 2350: [array([0.41920993, 0.35124982, 0.08948537, 0.19735789, 0.9408581 ])],\n",
       " 11000: [array([0.01056543, 0.18610586, 0.98548786, 0.34025133, 0.32654261])],\n",
       " 2850: [array([0.65391034, 0.02201669, 0.19203877, 0.95248189, 0.75070321])],\n",
       " 1500: [array([0.22695191, 0.63789253, 0.03194806, 0.41220722, 0.9470825 ])],\n",
       " 13300: [array([0.76136448, 0.46201752, 0.35837842, 0.2717907 , 0.16397133])]}"
      ]
     },
     "execution_count": 5,
     "metadata": {},
     "output_type": "execute_result"
    }
   ],
   "execution_count": 5
  }
 ],
 "metadata": {
  "kernelspec": {
   "display_name": "Python 3",
   "language": "python",
   "name": "python3"
  },
  "language_info": {
   "codemirror_mode": {
    "name": "ipython",
    "version": 2
   },
   "file_extension": ".py",
   "mimetype": "text/x-python",
   "name": "python",
   "nbconvert_exporter": "python",
   "pygments_lexer": "ipython2",
   "version": "2.7.6"
  }
 },
 "nbformat": 4,
 "nbformat_minor": 5
}

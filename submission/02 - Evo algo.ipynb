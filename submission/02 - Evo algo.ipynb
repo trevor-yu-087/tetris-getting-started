{
 "cells": [
  {
   "cell_type": "code",
   "id": "initial_id",
   "metadata": {
    "collapsed": true,
    "ExecuteTime": {
     "end_time": "2024-05-17T14:44:28.943197Z",
     "start_time": "2024-05-17T14:44:28.770445Z"
    }
   },
   "source": [
    "from pydantic.main import Model\n",
    "\n",
    "from agent import Agent\n",
    "from tetris.game import Game\n",
    "import numpy as np\n",
    "import nest_asyncio\n",
    "from tqdm import tqdm\n",
    "nest_asyncio.apply()"
   ],
   "outputs": [],
   "execution_count": 1
  },
  {
   "metadata": {},
   "cell_type": "markdown",
   "source": [
    "# Evolutionary Algorithm\n",
    "Fitness:\n",
    "- Score weights based on average final Tetris score over N random games\n",
    "Selection:\n",
    "- Use fitness proportional selection to select top K performing options\n",
    "Reproduction:\n",
    "- Parent A contributes 1-4 random genes and Parent B contributes the compliment\n",
    "Mutation:\n",
    "- Apply m operations in sequence\n",
    "  - No-op\n",
    "  - Swap genes (i, j) \n",
    "  - Add/subtract value from gene i\n",
    "  - Double/half value of gene i   "
   ],
   "id": "9eeb89822eec1237"
  },
  {
   "metadata": {
    "ExecuteTime": {
     "end_time": "2024-05-17T15:33:54.567505Z",
     "start_time": "2024-05-17T15:33:54.535434Z"
    }
   },
   "cell_type": "code",
   "source": [
    "from pydantic import BaseModel, ConfigDict\n",
    "from typing import List, Tuple, Any, Awaitable, Callable, Dict\n",
    "\n",
    "import concurrent.futures\n",
    "import asyncio\n",
    "\n",
    "class EvoAlgo(BaseModel):\n",
    "    model_config = ConfigDict(arbitrary_types_allowed=True)\n",
    "\n",
    "    selection_rate: int = 0.2\n",
    "    mutation_rate: float = 0.2\n",
    "    num_mutations: int = 3\n",
    "    crossover_rate: float = 0.2\n",
    "    increment_vals: List[float] = [0.01, 0.02, 0.05, 0.1, 0.2, 0.5, 1.0]\n",
    "    multiply_vals: List[float] = [0.5, 0.75, 1.33, 2]\n",
    "    weight_constraint: Tuple[float, float] = (0, 10)\n",
    "    population: List[Agent] = []\n",
    "    best_weights: List[np.ndarray] = []\n",
    "    best_scores: List[float] = []\n",
    "    history: Dict[int, Dict[float, np.ndarray]] = {}\n",
    "    seed: int = 87\n",
    "    rng: np.random.Generator = np.random.default_rng(seed)\n",
    "    \n",
    "    def minimize(self, objective: Callable, num_generations: int = 10, population_size: int = 50) -> Tuple[List[np.ndarray], List[float], Dict[float, List[np.ndarray]]]:\n",
    "        weights = self.rng.random(size=(population_size, 5)) * self.weight_constraint[1]\n",
    "        agents = [Agent(weights=w) for w in weights]\n",
    "        self.history = {}\n",
    "        scores = []\n",
    "        for g in range(num_generations):\n",
    "            if g > 0:\n",
    "                # Start new generation\n",
    "                keep_agents = self.select(agents, scores)\n",
    "                child_agents = self.crossover(keep_agents)\n",
    "                mutated_agents = self.mutate(child_agents)\n",
    "                agents = mutated_agents\n",
    "            with concurrent.futures.ProcessPoolExecutor() as executor:\n",
    "                scores = executor.map(objective, agents)\n",
    "            scores = list(scores)\n",
    "            \n",
    "            for score, agent in zip(scores, agents):\n",
    "                self.history.setdefault(g, {}).setdefault(score, []).append(agent.weights)\n",
    "\n",
    "            self.best_scores.append(np.max(scores))\n",
    "            self.best_weights.append(agents[np.argmax(scores)].weights)\n",
    "            print(f\"Best score was {self.best_scores[-1]} with weights {self.best_weights[-1]}\")\n",
    "            \n",
    "        return self.best_weights, self.best_scores, self.history\n",
    "    \n",
    "    def select(self, agents: List[Agent], scores: List[float]) -> List[Agent]:\n",
    "        \"\"\"Stochastic uniform sampling\"\"\"\n",
    "        fps_scores = np.array(scores) / sum(scores)\n",
    "        order = np.argsort(fps_scores)\n",
    "        fps_scores = fps_scores[order]\n",
    "        agents = [agents[i] for i in order]\n",
    "        \n",
    "        roulette_bins = np.cumsum(fps_scores)\n",
    "        \n",
    "        # Generate evenly spaced pointers\n",
    "        N = len(agents)\n",
    "        pointers = np.arange(N) / N\n",
    "        offset = np.random.rand()  # Spin the roulette wheel!\n",
    "        pointers = pointers + offset\n",
    "        pointers[pointers > 1] = pointers[pointers > 1] - 1\n",
    "        # Use digitize to select items\n",
    "        keep_inds = np.digitize(pointers, roulette_bins)\n",
    "        return [agents[i] for i in keep_inds]\n",
    "    \n",
    "    def crossover(self, agents: List[Agent]) -> List[Agent]:\n",
    "        def _crossover_fn(a: Agent, b: Agent) -> Agent:\n",
    "            genes = self.rng.permutation(5)\n",
    "            selection = self.rng.choice(np.arange(4) + 1)\n",
    "            new_weight = np.zeros(5)\n",
    "            # Genetic selection should be complementary\n",
    "            a_genes = genes[:selection]\n",
    "            b_genes = genes[selection:]\n",
    "            new_weight[a_genes] = a.weights[a_genes]\n",
    "            new_weight[b_genes] = b.weights[b_genes]\n",
    "            return Agent(weights=new_weight)\n",
    "        \n",
    "        new_agents = []\n",
    "        for agent in agents:\n",
    "            if self.rng.random() < self.crossover_rate:\n",
    "                agent_coparent = self.rng.choice(agents)\n",
    "                new_agents.append(_crossover_fn(agent, agent_coparent))\n",
    "            else:\n",
    "                new_agents.append(agent)\n",
    "        return new_agents\n",
    "    \n",
    "    def _increment_gene(self, agent: Agent) -> Agent:\n",
    "        i = self.rng.choice(5)\n",
    "        val = self.rng.choice([-1, 1]) * self.rng.choice(self.increment_vals)\n",
    "        agent.weights[i] += val\n",
    "        agent.weights = np.clip(agent.weights, self.weight_constraint[0], self.weight_constraint[1])\n",
    "        return agent\n",
    "    \n",
    "    def _multiply_gene(self, agent: Agent) -> Agent:\n",
    "        i = self.rng.choice(5)\n",
    "        val = self.rng.choice(self.multiply_vals)\n",
    "        agent.weights[i] *= val\n",
    "        agent.weights = np.clip(agent.weights, self.weight_constraint[0], self.weight_constraint[1])\n",
    "        return agent\n",
    "    \n",
    "    def _swap_gene(self, agent: Agent) -> Agent:\n",
    "        i, j = self.rng.choice(5, size=2, replace=False)\n",
    "        agent.weights[[j, i]] = agent.weights[[i, j]]\n",
    "        return agent\n",
    "    \n",
    "    def mutate(self, agents: List[Agent]) -> List[Agent]:\n",
    "        mutation_fns = [self._swap_gene, self._increment_gene, self._multiply_gene]\n",
    "        mutation_fn_weights = [0.2, 0.6, 0.2]\n",
    "        mutated_agents = []\n",
    "        for agent in agents:\n",
    "            if self.rng.random() < self.mutation_rate:\n",
    "                for i in range(self.num_mutations):\n",
    "                    mutation_fn = self.rng.choice(mutation_fns, p=mutation_fn_weights)\n",
    "                    agent = mutation_fn(agent)\n",
    "            mutated_agents.append(agent)\n",
    "\n",
    "        # Ensure the best agent has at least one candidate\n",
    "        mutated_agents[-1] = Agent(weights=self.best_weights[-1])\n",
    "        return mutated_agents"
   ],
   "id": "bdef64c3c861a67d",
   "outputs": [],
   "execution_count": 6
  },
  {
   "metadata": {
    "ExecuteTime": {
     "end_time": "2024-05-17T02:54:55.230173Z",
     "start_time": "2024-05-17T02:54:55.227157Z"
    }
   },
   "cell_type": "code",
   "source": [
    "GAME_SEED = 87\n",
    "async def objective(agent: Agent) -> float:\n",
    "    game = Game(agent, seed=GAME_SEED)\n",
    "    results = []\n",
    "    async for item in game.run():\n",
    "        results.append(item)\n",
    "    return game.score"
   ],
   "id": "ad0f5306b8597a7f",
   "outputs": [],
   "execution_count": 4
  },
  {
   "metadata": {
    "ExecuteTime": {
     "end_time": "2024-05-17T03:24:00.146088Z",
     "start_time": "2024-05-17T03:24:00.140959Z"
    }
   },
   "cell_type": "code",
   "source": "algo = EvoAlgo(mutation_rate=0.8)",
   "id": "f749a10e1824cead",
   "outputs": [],
   "execution_count": 64
  },
  {
   "metadata": {
    "ExecuteTime": {
     "end_time": "2024-05-17T02:54:55.237539Z",
     "start_time": "2024-05-17T02:54:55.235216Z"
    }
   },
   "cell_type": "code",
   "source": [
    "def process_agent(agent: Agent) -> float:\n",
    "    return asyncio.run(objective(agent))\n"
   ],
   "id": "f5654da832f10e6a",
   "outputs": [],
   "execution_count": 6
  },
  {
   "metadata": {
    "ExecuteTime": {
     "start_time": "2024-05-17T02:54:55.238418Z"
    }
   },
   "cell_type": "code",
   "source": "algo.minimize(process_agent, num_generations=10, population_size=100)",
   "id": "da7f95d276f2c797",
   "outputs": [],
   "execution_count": null
  },
  {
   "metadata": {},
   "cell_type": "code",
   "source": [
    "GAME_SEEDS = [87, 42, 101]\n",
    "async def objective(agent: Agent, seed) -> float:\n",
    "    game = Game(agent, seed=seed)\n",
    "    results = []\n",
    "    async for item in game.run():\n",
    "        results.append(item)\n",
    "    return game.score\n",
    "\n",
    "def process_agent(agent: Agent) -> float:\n",
    "    scores = []\n",
    "    for seed in GAME_SEEDS:\n",
    "        scores.append(asyncio.run(objective(agent, seed)))\n",
    "    return np.mean(scores)\n"
   ],
   "id": "ed8af890d01c94d1",
   "outputs": [],
   "execution_count": null
  },
  {
   "metadata": {},
   "cell_type": "code",
   "source": "algo = EvoAlgo(mutation_rate=0.8, crossover_rate=0.4)",
   "id": "4dc04f75d3e3fb2d",
   "outputs": [],
   "execution_count": null
  },
  {
   "metadata": {},
   "cell_type": "code",
   "source": "algo.minimize(process_agent, num_generations=10, population_size=20)",
   "id": "fba2a0f01bef5e72",
   "outputs": [],
   "execution_count": null
  },
  {
   "metadata": {},
   "cell_type": "code",
   "source": [
    "import concurrent.futures\n",
    "import asyncio\n",
    "\n",
    "num_trials = 10\n",
    "game_seed = 42\n",
    "\n",
    "async def objective(agent: Agent) -> float:\n",
    "    game = Game(agent, seed=game_seed)\n",
    "    async for _ in game.run():\n",
    "        continue\n",
    "    return game.score\n",
    "\n",
    "def process_agent(agent: Agent) -> float:\n",
    "    return asyncio.run(objective(agent))\n",
    "\n",
    "\n",
    "agents = [Agent(np.random.randn(5)) for _ in range(num_trials)]\n",
    "with concurrent.futures.ProcessPoolExecutor() as executor:\n",
    "    scores = executor.map(process_agent, agents)\n",
    "scores = list(scores)"
   ],
   "id": "87784ae9ef5fd473",
   "outputs": [],
   "execution_count": null
  },
  {
   "metadata": {},
   "cell_type": "markdown",
   "source": "# GA with 5 seeds",
   "id": "6514b4c6ee128cdc"
  },
  {
   "metadata": {
    "ExecuteTime": {
     "end_time": "2024-05-17T03:28:24.687833Z",
     "start_time": "2024-05-17T03:28:24.679945Z"
    }
   },
   "cell_type": "code",
   "source": [
    "GAME_SEEDS = [73, 42, 101, 69, 987]\n",
    "async def objective(agent: Agent, seed) -> float:\n",
    "    game = Game(agent, seed=seed)\n",
    "    results = []\n",
    "    async for item in game.run():\n",
    "        results.append(item)\n",
    "    return game.score\n",
    "\n",
    "def process_agent(agent: Agent) -> float:\n",
    "    scores = []\n",
    "    for seed in GAME_SEEDS:\n",
    "        scores.append(asyncio.run(objective(agent, seed)))\n",
    "    return np.mean(scores)\n"
   ],
   "id": "e7cd952204c47f92",
   "outputs": [],
   "execution_count": 3
  },
  {
   "metadata": {
    "ExecuteTime": {
     "end_time": "2024-05-17T03:28:27.434909Z",
     "start_time": "2024-05-17T03:28:27.429968Z"
    }
   },
   "cell_type": "code",
   "source": "algo = EvoAlgo(mutation_rate=0.8, crossover_rate=0.4)",
   "id": "554f2b07cba3260c",
   "outputs": [],
   "execution_count": 4
  },
  {
   "metadata": {
    "ExecuteTime": {
     "end_time": "2024-05-17T03:51:28.575246Z",
     "start_time": "2024-05-17T03:28:30.646113Z"
    }
   },
   "cell_type": "code",
   "source": "best_scores, best_weights, history = algo.minimize(process_agent, num_generations=10, population_size=20)",
   "id": "5ba3e10682212de6",
   "outputs": [
    {
     "name": "stdout",
     "output_type": "stream",
     "text": [
      "Best score was 40000.0 with weights [0.34622345 2.95584655 4.18676425 5.13021089 1.2361363 ]\n",
      "Best score was 40000.0 with weights [0.34622345 4.4419328  4.28676425 5.13021089 1.47792327]\n",
      "Best score was 40000.0 with weights [8.05534227 8.05337716 7.5986661  0.90625126 2.92657677]\n",
      "Best score was 29840.0 with weights [0.44622345 5.90777063 4.28676425 6.82318048 1.47792327]\n",
      "Best score was 40000.0 with weights [1.47792327 4.4419328  3.88676425 9.07483004 1.46792327]\n",
      "Best score was 40000.0 with weights [1.96563795 4.6419328  3.88676425 9.02483004 1.46792327]\n",
      "Best score was 40000.0 with weights [3.98676425 0.23784989 1.52792327 1.2061363  0.34622345]\n",
      "Best score was 40000.0 with weights [1.96563795 4.7219328  3.39676425 8.02483004 1.46792327]\n",
      "Best score was 40000.0 with weights [1.96563795 4.4419328  3.39676425 8.02483004 1.46792327]\n",
      "Best score was 40000.0 with weights [2.61429848 4.1819328  4.32769645 8.01483004 1.43792327]\n"
     ]
    },
    {
     "ename": "NameError",
     "evalue": "name 'history' is not defined",
     "output_type": "error",
     "traceback": [
      "\u001B[0;31m---------------------------------------------------------------------------\u001B[0m",
      "\u001B[0;31mNameError\u001B[0m                                 Traceback (most recent call last)",
      "Cell \u001B[0;32mIn[5], line 1\u001B[0m\n\u001B[0;32m----> 1\u001B[0m best_scores, best_weights, history \u001B[38;5;241m=\u001B[39m \u001B[43malgo\u001B[49m\u001B[38;5;241;43m.\u001B[39;49m\u001B[43mminimize\u001B[49m\u001B[43m(\u001B[49m\u001B[43mprocess_agent\u001B[49m\u001B[43m,\u001B[49m\u001B[43m \u001B[49m\u001B[43mnum_generations\u001B[49m\u001B[38;5;241;43m=\u001B[39;49m\u001B[38;5;241;43m10\u001B[39;49m\u001B[43m,\u001B[49m\u001B[43m \u001B[49m\u001B[43mpopulation_size\u001B[49m\u001B[38;5;241;43m=\u001B[39;49m\u001B[38;5;241;43m20\u001B[39;49m\u001B[43m)\u001B[49m\n",
      "Cell \u001B[0;32mIn[2], line 44\u001B[0m, in \u001B[0;36mEvoAlgo.minimize\u001B[0;34m(self, objective, num_generations, population_size)\u001B[0m\n\u001B[1;32m     41\u001B[0m     \u001B[38;5;28mself\u001B[39m\u001B[38;5;241m.\u001B[39mbest_weights\u001B[38;5;241m.\u001B[39mappend(agents[np\u001B[38;5;241m.\u001B[39margmax(scores)]\u001B[38;5;241m.\u001B[39mweights)\n\u001B[1;32m     42\u001B[0m     \u001B[38;5;28mprint\u001B[39m(\u001B[38;5;124mf\u001B[39m\u001B[38;5;124m\"\u001B[39m\u001B[38;5;124mBest score was \u001B[39m\u001B[38;5;132;01m{\u001B[39;00m\u001B[38;5;28mself\u001B[39m\u001B[38;5;241m.\u001B[39mbest_scores[\u001B[38;5;241m-\u001B[39m\u001B[38;5;241m1\u001B[39m]\u001B[38;5;132;01m}\u001B[39;00m\u001B[38;5;124m with weights \u001B[39m\u001B[38;5;132;01m{\u001B[39;00m\u001B[38;5;28mself\u001B[39m\u001B[38;5;241m.\u001B[39mbest_weights[\u001B[38;5;241m-\u001B[39m\u001B[38;5;241m1\u001B[39m]\u001B[38;5;132;01m}\u001B[39;00m\u001B[38;5;124m\"\u001B[39m)\n\u001B[0;32m---> 44\u001B[0m \u001B[38;5;28;01mreturn\u001B[39;00m \u001B[38;5;28mself\u001B[39m\u001B[38;5;241m.\u001B[39mbest_weights, \u001B[38;5;28mself\u001B[39m\u001B[38;5;241m.\u001B[39mbest_scores, \u001B[43mhistory\u001B[49m\n",
      "\u001B[0;31mNameError\u001B[0m: name 'history' is not defined"
     ]
    }
   ],
   "execution_count": 5
  },
  {
   "metadata": {
    "ExecuteTime": {
     "end_time": "2024-05-17T04:29:51.555517Z",
     "start_time": "2024-05-17T04:29:51.509590Z"
    }
   },
   "cell_type": "code",
   "source": "algo.history",
   "id": "5853a3f68ec64219",
   "outputs": [
    {
     "data": {
      "text/plain": [
       "{0: {9140.0: array([7.0010428 , 9.82102919, 3.7596524 , 7.93533889, 5.64248419]),\n",
       "  15680.0: array([1.88571401, 5.39103801, 5.02116492, 7.30876796, 4.00647543]),\n",
       "  610.0: array([9.25624864, 0.03412066, 0.47758348, 0.85098027, 8.83780385]),\n",
       "  3210.0: array([5.29752653, 6.71983133, 3.08170028, 6.83454646, 6.24244872]),\n",
       "  16260.0: array([ 6.92553618, 10.06527898,  3.31903872,  0.90625126,  0.05047459]),\n",
       "  3810.0: array([7.12314253, 6.26352079, 2.55857868, 7.6906871 , 8.39120924]),\n",
       "  8930.0: array([9.79994568, 7.68813925, 7.99821582, 0.04348765, 5.62675341]),\n",
       "  40000.0: array([0.34622345, 2.95584655, 4.18676425, 5.03021089, 1.2361363 ]),\n",
       "  3910.0: array([8.03351176, 7.60061054, 2.33041888, 0.88570469, 6.90067299]),\n",
       "  16710.0: array([3.08090581, 8.05614784, 7.5986661 , 7.05857145, 1.86635076]),\n",
       "  1530.0: array([7.12740311, 1.86370782, 3.96423882, 3.0651178 , 9.28019871]),\n",
       "  9630.0: array([9.05925209, 9.00479474, 5.00792546, 9.80121916, 5.69249244]),\n",
       "  1590.0: array([7.19658983, 2.30007769, 3.0766706 , 7.2734112 , 8.66901023])},\n",
       " 1: {15680.0: array([0.13622345, 1.2361363 , 2.95584655, 5.13021089, 4.18676425]),\n",
       "  20170.0: array([5.9075643 , 7.8353931 , 2.22391993, 4.81844957, 2.14016547]),\n",
       "  9140.0: array([9.79994568, 7.68813925, 3.99910791, 0.        , 5.62675341]),\n",
       "  1060.0: array([6.2850197 , 0.1766355 , 1.75586904, 5.50272701, 7.47790398]),\n",
       "  16120.0: array([6.92553618, 8.05614784, 7.5986661 , 0.90625126, 0.05047459]),\n",
       "  16260.0: array([ 6.92553618, 10.        ,  1.40625126,  3.31903872,  0.05047459]),\n",
       "  8930.0: array([6.8010428 , 9.82102919, 1.8898262 , 5.0271386 , 4.23186315]),\n",
       "  16110.0: array([ 0.34622345, 10.        ,  3.98676425,  4.13021089,  1.7361363 ]),\n",
       "  40000.0: array([0.34622345, 2.95584655, 4.18676425, 5.03021089, 1.2361363 ]),\n",
       "  3810.0: array([7.12314253, 6.26352079, 2.55857868, 7.6906871 , 8.39120924])},\n",
       " 2: {16110.0: array([7.9735285 , 2.95584655, 1.1861363 , 5.08021089, 0.34622345]),\n",
       "  40000.0: array([0.44622345, 4.4419328 , 4.08676425, 5.13021089, 1.47792327]),\n",
       "  3810.0: array([0.13622345, 1.2361363 , 2.95584655, 5.13021089, 4.18676425]),\n",
       "  3210.0: array([7.42553618, 8.05614784, 5.01792546, 9.80121916, 6.59249244]),\n",
       "  15680.0: array([0.24622345, 8.05337716, 2.09338212, 0.48569978, 2.92657677]),\n",
       "  29840.0: array([0.46622345, 5.90777063, 4.28676425, 6.82318048, 1.42792327]),\n",
       "  13950.0: array([0.46047719, 4.4319328 , 4.28676425, 5.14021089, 1.2361363 ]),\n",
       "  9140.0: array([3.44574546, 6.92323382, 6.00792546, 5.0271386 , 5.84412693]),\n",
       "  8930.0: array([6.8010428 , 9.92102919, 1.8898262 , 4.8271386 , 4.23186315])},\n",
       " 3: {3210.0: array([ 0.34622345,  3.98676425, 10.        ,  4.13021089,  7.0986661 ]),\n",
       "  29840.0: array([0.46622345, 5.90777063, 4.28676425, 6.82318048, 1.42792327]),\n",
       "  8930.0: array([8.05534227, 4.4419328 , 4.28676425, 5.13021089, 2.92657677]),\n",
       "  13950.0: array([2.45584655, 0.46047719, 5.08021089, 1.1861363 , 7.9735285 ]),\n",
       "  3670.0: array([8.05534227, 3.12657677, 7.5886661 , 0.90625126, 8.05337716]),\n",
       "  16110.0: array([ 8.05534227, 10.        ,  3.98676425,  4.13021089,  1.2361363 ]),\n",
       "  12960.0: array([ 8.05534227, 10.        ,  4.28676425,  1.40625126,  1.47792327]),\n",
       "  16260.0: array([1.47792327, 4.4419328 , 4.08676425, 4.73021089, 0.44622345]),\n",
       "  9140.0: array([3.44574546, 6.92323382, 6.00792546, 5.1771386 , 5.84412693]),\n",
       "  3810.0: array([8.05534227, 3.12657677, 7.5986661 , 0.90625126, 8.05337716]),\n",
       "  1530.0: array([0.34622345, 1.7361363 , 3.98676425, 4.13021089, 9.99      ])},\n",
       " 4: {3210.0: array([0.23811173, 6.82318048, 4.28676425, 1.47792327, 6.88777063]),\n",
       "  29840.0: array([0.46622345, 5.90777063, 4.28676425, 6.82318048, 1.42792327]),\n",
       "  12960.0: array([0.45966759, 5.90777063, 5.12021089, 6.82318048, 1.1261363 ]),\n",
       "  16110.0: array([ 8.05534227, 10.        ,  3.46515817,  4.13021089,  1.2361363 ]),\n",
       "  13950.0: array([0.44622345, 5.90777063, 5.75139645, 2.22391993, 1.47792327]),\n",
       "  1590.0: array([2.45584655, 0.46047719, 5.08021089, 1.1861363 , 7.9735285 ]),\n",
       "  16260.0: array([1.10844245, 4.08676425, 4.5419328 , 4.73021089, 0.34622345]),\n",
       "  40000.0: array([1.10844245, 4.4419328 , 7.7735285 , 9.07483004, 1.46792327]),\n",
       "  4330.0: array([0.34622345, 3.12657677, 6.6186661 , 4.13021089, 7.0786661 ]),\n",
       "  3810.0: array([8.05534227, 3.12657677, 7.5986661 , 0.90625126, 8.05337716]),\n",
       "  15680.0: array([ 6.82356052, 10.        ,  4.81844957,  2.23391993,  4.28033093]),\n",
       "  8930.0: array([3.50058246, 4.29103801, 5.71953619, 3.99861232, 3.62142801])},\n",
       " 5: {29840.0: array([5.34021089, 5.68139645, 4.2319328 , 2.14783986, 1.64016547]),\n",
       "  12960.0: array([4.28676425, 5.90777063, 7.92356052, 2.43293995, 1.47792327]),\n",
       "  3910.0: array([1.42792327, 5.90777063, 0.31622345, 6.82318048, 4.26676425]),\n",
       "  40000.0: array([1.10844245, 4.4419328 , 7.7735285 , 9.07483004, 1.46792327]),\n",
       "  3810.0: array([0.23811173, 6.82318048, 0.97792327, 4.28676425, 6.88777063]),\n",
       "  9630.0: array([0.47622345, 5.11738536, 4.29676425, 1.47792327, 3.72142801]),\n",
       "  13950.0: array([0.44622345, 5.90777063, 5.75139645, 2.22391993, 1.47792327]),\n",
       "  15680.0: array([ 4.81844957, 10.        ,  6.82356052,  2.23391993,  4.23033093]),\n",
       "  16260.0: array([1.10844245, 4.08676425, 4.5419328 , 4.73021089, 0.29622345]),\n",
       "  16110.0: array([1.46792327, 5.87777063, 5.43539645, 5.22021089, 0.94622345])},\n",
       " 6: {40000.0: array([3.93127591, 3.4814496 , 3.88676425, 9.02483004, 1.46792327]),\n",
       "  13950.0: array([0.34622345, 6.00777063, 5.75139645, 2.22391993, 1.47792327]),\n",
       "  9140.0: array([1.46792327, 9.95      , 0.96622345, 1.98481351, 5.43539645]),\n",
       "  16110.0: array([8.05534227, 9.95      , 3.46515817, 1.99481351, 1.2361363 ]),\n",
       "  16260.0: array([5.12021089, 6.00777063, 8.05534227, 6.82318048, 0.47792327]),\n",
       "  1660.0: array([7.55534227, 1.47792327, 3.36515817, 1.46792327, 5.90777063]),\n",
       "  15680.0: array([10.        ,  3.88676425,  1.55422123,  4.4219328 ,  1.26792327]),\n",
       "  29840.0: array([1.96563795, 4.6419328 , 4.29676425, 1.47792327, 1.46792327]),\n",
       "  3210.0: array([1.96563795, 1.47792327, 3.88676425, 9.02483004, 3.4814496 ]),\n",
       "  8930.0: array([1.10844245, 4.4219328 , 3.39676425, 9.07483004, 2.64792327]),\n",
       "  16710.0: array([1.10844245, 7.4735285 , 4.4419328 , 9.07483004, 1.46792327])},\n",
       " 7: {1660.0: array([7.55534227, 1.47792327, 3.36515817, 1.41792327, 5.70777063]),\n",
       "  20170.0: array([9.07483004, 5.9419328 , 0.97792327, 2.13783986, 1.64016547]),\n",
       "  15680.0: array([3.87676425, 1.96563795, 4.9419328 , 8.97483004, 1.74016547]),\n",
       "  29840.0: array([8.05534227, 9.95      , 2.46515817, 1.64406128, 2.00481351]),\n",
       "  16260.0: array([ 2.10844245,  3.88676425, 10.        ,  5.88117063,  0.2302386 ]),\n",
       "  16710.0: array([1.10844245, 7.4735285 , 4.4419328 , 9.07483004, 1.46792327]),\n",
       "  13950.0: array([0.34622345, 3.88676425, 5.75139645, 2.22391993, 1.26792327]),\n",
       "  20210.0: array([1.52792327, 4.6419328 , 1.96563795, 1.47792327, 1.46792327]),\n",
       "  40000.0: array([7.9735285 , 0.21784989, 1.52792327, 1.2061363 , 0.34622345]),\n",
       "  12960.0: array([1.91563795, 4.6919328 , 9.02483004, 3.29676425, 1.44792327]),\n",
       "  16110.0: array([7.9735285 , 0.23784989, 1.62792327, 1.2061363 , 0.17311173]),\n",
       "  4330.0: array([5.51241502, 0.23784989, 1.52792327, 1.2061363 , 1.26792327]),\n",
       "  8930.0: array([4.64021089, 4.2319328 , 2.56010545, 6.77318048, 3.28033093]),\n",
       "  3810.0: array([5.14021089, 2.93584655, 1.47792327, 5.12021089, 4.2319328 ])},\n",
       " 8: {16710.0: array([1.10844245, 7.4735285 , 4.4419328 , 6.80612253, 1.46792327]),\n",
       "  15680.0: array([3.87676425, 1.64016547, 1.30063795, 5.9419328 , 4.26567973]),\n",
       "  40000.0: array([4.39676425, 4.1819328 , 8.02483004, 5.22859696, 1.48792327]),\n",
       "  12960.0: array([1.92563795, 4.6919328 , 9.03483004, 3.29676425, 1.44792327]),\n",
       "  16110.0: array([7.9735285 , 0.23784989, 1.62792327, 1.2061363 , 0.17311173]),\n",
       "  16260.0: array([ 2.10844245,  3.88676425, 10.        ,  5.88117063,  0.2302386 ]),\n",
       "  20210.0: array([1.37792327, 4.6419328 , 1.96563795, 1.69838212, 1.46792327]),\n",
       "  9140.0: array([8.07534227, 1.47569978, 3.46515817, 1.64406128, 2.00481351]),\n",
       "  20170.0: array([9.95      , 8.05534227, 2.46515817, 1.64406128, 2.50481351]),\n",
       "  29840.0: array([1.96563795, 4.7219328 , 4.51769645, 8.02483004, 1.46792327]),\n",
       "  1660.0: array([0.35622345, 0.21784989, 1.52792327, 7.9935285 , 2.4122726 ]),\n",
       "  3210.0: array([4.64021089, 4.2319328 , 2.56010545, 6.77318048, 3.83033093])},\n",
       " 9: {13950.0: array([1.96563795, 4.4419328 , 3.39676425, 8.02483004, 1.10094245]),\n",
       "  29840.0: array([2.46563795, 4.9219328 , 4.31769645, 1.1220826 , 1.51792327]),\n",
       "  40000.0: array([9.95      , 8.97483004, 5.4419328 , 7.85534227, 2.50481351]),\n",
       "  16710.0: array([0.60844245, 7.4735285 , 4.4319328 , 3.40306127, 1.46792327]),\n",
       "  16260.0: array([1.96563795, 4.4419328 , 3.41676425, 4.01241502, 0.12095346]),\n",
       "  3810.0: array([0.35622345, 0.21784989, 1.52792327, 7.9935285 , 1.46792327]),\n",
       "  20170.0: array([ 3.16266368,  3.88676425, 10.        ,  1.44792327,  3.29676425]),\n",
       "  1660.0: array([3.87676425, 2.64016547, 1.30063795, 5.9419328 , 4.26567973]),\n",
       "  180.0: array([1.46563795, 0.23784989, 3.25584655, 1.2061363 , 0.        ]),\n",
       "  16110.0: array([2.75584655, 1.94338212, 0.96563795, 5.88117063, 0.2302386 ]),\n",
       "  3910.0: array([4.9419328 , 9.88      , 1.74016547, 8.97483004, 7.85534227]),\n",
       "  20210.0: array([1.37792327, 4.6419328 , 1.96563795, 1.69838212, 1.46792327])}}"
      ]
     },
     "execution_count": 6,
     "metadata": {},
     "output_type": "execute_result"
    }
   ],
   "execution_count": 6
  },
  {
   "metadata": {},
   "cell_type": "markdown",
   "source": "# GA with 5 seeds, 100 agents",
   "id": "4a6938ed396a57c3"
  },
  {
   "metadata": {
    "ExecuteTime": {
     "end_time": "2024-05-17T15:34:00.762684Z",
     "start_time": "2024-05-17T15:34:00.754447Z"
    }
   },
   "cell_type": "code",
   "source": [
    "GAME_SEEDS = [32, 410, 99, 37, 8]\n",
    "async def objective(agent: Agent, seed) -> float:\n",
    "    game = Game(agent, seed=seed)\n",
    "    results = []\n",
    "    async for item in game.run():\n",
    "        results.append(item)\n",
    "    return game.score\n",
    "\n",
    "def process_agent(agent: Agent) -> float:\n",
    "    scores = []\n",
    "    for seed in GAME_SEEDS:\n",
    "        scores.append(asyncio.run(objective(agent, seed)))\n",
    "    return np.mean(scores)\n"
   ],
   "id": "21542eb8208540ed",
   "outputs": [],
   "execution_count": 7
  },
  {
   "metadata": {
    "ExecuteTime": {
     "end_time": "2024-05-17T15:34:00.804072Z",
     "start_time": "2024-05-17T15:34:00.798172Z"
    }
   },
   "cell_type": "code",
   "source": "algo = EvoAlgo(mutation_rate=0.8, crossover_rate=0.4)",
   "id": "c21ba9ed1a347547",
   "outputs": [],
   "execution_count": 8
  },
  {
   "metadata": {
    "ExecuteTime": {
     "end_time": "2024-05-17T17:00:56.333950Z",
     "start_time": "2024-05-17T15:34:00.812726Z"
    }
   },
   "cell_type": "code",
   "source": "best_scores, best_weights, history = algo.minimize(process_agent, num_generations=10, population_size=100)",
   "id": "5bf8262503645d82",
   "outputs": [
    {
     "name": "stdout",
     "output_type": "stream",
     "text": [
      "Best score was 30530.0 with weights [0.45980569 7.85032218 7.02579063 6.08156309 2.99888919]\n",
      "Best score was 30530.0 with weights [6.95500591 7.85032218 7.02579063 6.08156309 2.99888919]\n",
      "Best score was 30530.0 with weights [5.84437859 2.84828686 8.73765569 1.08301312 2.52757954]\n",
      "Best score was 31000.0 with weights [ 7.61424701  3.38785169 10.          0.5129242   3.3403593 ]\n",
      "Best score was 31000.0 with weights [ 7.66424701  3.38785169 10.          0.5129242   3.2903593 ]\n",
      "Best score was 31000.0 with weights [ 7.66424701  3.38785169 10.          0.5129242   3.2903593 ]\n",
      "Best score was 31000.0 with weights [ 7.66424701  3.38785169 10.          0.5129242   3.2403593 ]\n",
      "Best score was 31000.0 with weights [ 7.76424701  3.40785169 10.          0.38469315  3.2403593 ]\n",
      "Best score was 31000.0 with weights [ 7.76424701  3.40785169 10.          0.51164189  3.2403593 ]\n",
      "Best score was 30530.0 with weights [1.39443746 6.92579063 7.5        6.19727297 3.49270794]\n"
     ]
    }
   ],
   "execution_count": 9
  }
 ],
 "metadata": {
  "kernelspec": {
   "display_name": "Python 3",
   "language": "python",
   "name": "python3"
  },
  "language_info": {
   "codemirror_mode": {
    "name": "ipython",
    "version": 2
   },
   "file_extension": ".py",
   "mimetype": "text/x-python",
   "name": "python",
   "nbconvert_exporter": "python",
   "pygments_lexer": "ipython2",
   "version": "2.7.6"
  }
 },
 "nbformat": 4,
 "nbformat_minor": 5
}
